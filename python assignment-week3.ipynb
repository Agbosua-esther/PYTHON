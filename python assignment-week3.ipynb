{
 "cells": [
  {
   "cell_type": "code",
   "execution_count": 5,
   "metadata": {},
   "outputs": [
    {
     "name": "stdout",
     "output_type": "stream",
     "text": [
      "38\n"
     ]
    }
   ],
   "source": [
    "#suming all iems in A\n",
    "A= [5,8,15,7,3]\n",
    "\n",
    "print (sum(A))\n",
    " \n"
   ]
  },
  {
   "cell_type": "code",
   "execution_count": 2,
   "metadata": {
    "scrolled": true
   },
   "outputs": [
    {
     "data": {
      "text/plain": [
       "['April',\n",
       " 'August',\n",
       " 'DSN',\n",
       " 'Feb',\n",
       " 'Jan',\n",
       " 'July',\n",
       " 'June',\n",
       " 'March',\n",
       " 'May',\n",
       " 'November',\n",
       " 'October',\n",
       " 'September']"
      ]
     },
     "execution_count": 2,
     "metadata": {},
     "output_type": "execute_result"
    }
   ],
   "source": [
    "\n",
    "months=['Jan','Feb', 'DSN', 'March', 'April','May', 'June','July', 'August','September', 'October','November']\n",
    "#sort the months in increasing order\n",
    "months.sort()\n",
    "#print months\n",
    "months"
   ]
  },
  {
   "cell_type": "code",
   "execution_count": 7,
   "metadata": {
    "scrolled": true
   },
   "outputs": [
    {
     "data": {
      "text/plain": [
       "['Jan',\n",
       " 'Feb',\n",
       " 'DSN',\n",
       " 'March',\n",
       " 'April',\n",
       " 'May',\n",
       " 'June',\n",
       " 'July',\n",
       " 'August',\n",
       " 'September',\n",
       " 'October',\n",
       " 'November',\n",
       " 'December']"
      ]
     },
     "execution_count": 7,
     "metadata": {},
     "output_type": "execute_result"
    }
   ],
   "source": [
    "months=['Jan','Feb', 'DSN', 'March', 'April','May', 'June','July', 'August','September', 'October','November']\n",
    "\n",
    "# add December to months\n",
    "months.append(\"December\")\n",
    "#print (months)\n",
    "months\n"
   ]
  },
  {
   "cell_type": "code",
   "execution_count": 8,
   "metadata": {},
   "outputs": [
    {
     "data": {
      "text/plain": [
       "['November',\n",
       " 'October',\n",
       " 'September',\n",
       " 'August',\n",
       " 'July',\n",
       " 'June',\n",
       " 'May',\n",
       " 'April',\n",
       " 'March',\n",
       " 'DSN',\n",
       " 'Feb',\n",
       " 'Jan']"
      ]
     },
     "execution_count": 8,
     "metadata": {},
     "output_type": "execute_result"
    }
   ],
   "source": [
    "months=['Jan','Feb', 'DSN', 'March', 'April','May', 'June','July', 'August','September', 'October','November']\n",
    "# reverse elements of months\n",
    "months.reverse()\n",
    "#print(months)\n",
    "months\n"
   ]
  },
  {
   "cell_type": "code",
   "execution_count": 12,
   "metadata": {},
   "outputs": [
    {
     "data": {
      "text/plain": [
       "['Jan',\n",
       " 'Feb',\n",
       " 'March',\n",
       " 'April',\n",
       " 'May',\n",
       " 'June',\n",
       " 'July',\n",
       " 'August',\n",
       " 'September',\n",
       " 'October',\n",
       " 'November']"
      ]
     },
     "execution_count": 12,
     "metadata": {},
     "output_type": "execute_result"
    }
   ],
   "source": [
    "months=['Jan','Feb', 'DSN', 'March', 'April','May', 'June','July', 'August','September', 'October','November']\n",
    "\n",
    "#remove DSN from months\n",
    "months.remove(\"DSN\")\n",
    "months"
   ]
  },
  {
   "cell_type": "code",
   "execution_count": null,
   "metadata": {},
   "outputs": [],
   "source": []
  }
 ],
 "metadata": {
  "kernelspec": {
   "display_name": "Python 3",
   "language": "python",
   "name": "python3"
  },
  "language_info": {
   "codemirror_mode": {
    "name": "ipython",
    "version": 3
   },
   "file_extension": ".py",
   "mimetype": "text/x-python",
   "name": "python",
   "nbconvert_exporter": "python",
   "pygments_lexer": "ipython3",
   "version": "3.7.3"
  }
 },
 "nbformat": 4,
 "nbformat_minor": 2
}
